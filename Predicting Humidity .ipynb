{
 "cells": [
  {
   "cell_type": "markdown",
   "metadata": {},
   "source": [
    "# Daily Weather Humidity\n",
    "\n",
    "Sensor measurements from the weather station were captured at one-minute intervals. These measurements were then processed to generate values to describe daily weather. Since this dataset was created to classify low-humidity days vs. non-low-humidity days (that is, days with normal or high humidity), the variables included are weather measurements in the morning, with one measurement, namely relatively humidity, in the afternoon. The idea is to use the morning weather values to predict whether the day will be low-humidity or not based on the afternoon measurement of relative humidity."
   ]
  },
  {
   "cell_type": "markdown",
   "metadata": {},
   "source": [
    "Each row, or sample, consists of the following variables:\n",
    "\n",
    "number: unique number for each row\n",
    "\n",
    "- airpressure9am: air pressure averaged over a period from 8:55am to 9:04am (Unit: hectopascals)\n",
    "\n",
    "- airtemp9am: air temperature averaged over a period from 8:55am to 9:04am (Unit: degrees Fahrenheit)\n",
    "\n",
    "- airwinddirection_9am: wind direction averaged over a period from 8:55am to 9:04am (Unit: degrees,\n",
    "with 0 means coming from the North, and increasing clockwise)\n",
    "\n",
    "- airwindspeed9am: wind speed averaged over a period from 8:55am to 9:04am (Unit: miles per hour) \n",
    "\n",
    "- maxwinddirection9am: wind gust direction averaged over a period from 8:55am to 9:10am (Unit:\n",
    "degrees, with 0 being North and increasing clockwise)\n",
    "\n",
    "- maxwindspeed_9am: wind gust speed averaged over a period from 8:55am to 9:04am (Unit: miles per\n",
    "hour)\n",
    "\n",
    "- rainaccumulation9am: amount of rain accumulated in the 24 hours prior to 9am (Unit: millimeters)\n",
    "\n",
    "- rainduration9am: amount of time rain was recorded in the 24 hours prior to 9am (Unit: seconds)\n",
    "\n",
    "- relativehumidity9am: relative humidity averaged over a period from 8:55am to 9:04am (Unit: percent)\n",
    "\n",
    "- relativehumidity3pm: relative humidity averaged over a period from 2:55pm to 3:04pm (Unit: percent )"
   ]
  },
  {
   "cell_type": "markdown",
   "metadata": {},
   "source": [
    "What we will do here is , we define a own target column"
   ]
  },
  {
   "cell_type": "code",
   "execution_count": 1,
   "metadata": {},
   "outputs": [],
   "source": [
    "import numpy as np\n",
    "import pandas as pd\n",
    "import matplotlib.pyplot as plt\n",
    "import seaborn as sns\n",
    "from sklearn.metrics import accuracy_score, confusion_matrix\n",
    "from sklearn.model_selection import train_test_split\n",
    "from sklearn.tree import DecisionTreeClassifier"
   ]
  },
  {
   "cell_type": "code",
   "execution_count": 2,
   "metadata": {},
   "outputs": [],
   "source": [
    "df = pd.read_csv(\"daily_weather.csv\")"
   ]
  },
  {
   "cell_type": "code",
   "execution_count": 3,
   "metadata": {},
   "outputs": [
    {
     "data": {
      "text/plain": [
       "Index(['number', 'air_pressure_9am', 'air_temp_9am', 'avg_wind_direction_9am',\n",
       "       'avg_wind_speed_9am', 'max_wind_direction_9am', 'max_wind_speed_9am',\n",
       "       'rain_accumulation_9am', 'rain_duration_9am', 'relative_humidity_9am',\n",
       "       'relative_humidity_3pm'],\n",
       "      dtype='object')"
      ]
     },
     "execution_count": 3,
     "metadata": {},
     "output_type": "execute_result"
    }
   ],
   "source": [
    "df.columns"
   ]
  },
  {
   "cell_type": "code",
   "execution_count": 4,
   "metadata": {},
   "outputs": [
    {
     "data": {
      "text/html": [
       "<div>\n",
       "<style scoped>\n",
       "    .dataframe tbody tr th:only-of-type {\n",
       "        vertical-align: middle;\n",
       "    }\n",
       "\n",
       "    .dataframe tbody tr th {\n",
       "        vertical-align: top;\n",
       "    }\n",
       "\n",
       "    .dataframe thead th {\n",
       "        text-align: right;\n",
       "    }\n",
       "</style>\n",
       "<table border=\"1\" class=\"dataframe\">\n",
       "  <thead>\n",
       "    <tr style=\"text-align: right;\">\n",
       "      <th></th>\n",
       "      <th>number</th>\n",
       "      <th>air_pressure_9am</th>\n",
       "      <th>air_temp_9am</th>\n",
       "      <th>avg_wind_direction_9am</th>\n",
       "      <th>avg_wind_speed_9am</th>\n",
       "      <th>max_wind_direction_9am</th>\n",
       "      <th>max_wind_speed_9am</th>\n",
       "      <th>rain_accumulation_9am</th>\n",
       "      <th>rain_duration_9am</th>\n",
       "      <th>relative_humidity_9am</th>\n",
       "      <th>relative_humidity_3pm</th>\n",
       "    </tr>\n",
       "  </thead>\n",
       "  <tbody>\n",
       "    <tr>\n",
       "      <td>1090</td>\n",
       "      <td>1090</td>\n",
       "      <td>918.90</td>\n",
       "      <td>63.104</td>\n",
       "      <td>192.9</td>\n",
       "      <td>3.869906</td>\n",
       "      <td>207.3</td>\n",
       "      <td>5.212070</td>\n",
       "      <td>0.0</td>\n",
       "      <td>0.0</td>\n",
       "      <td>26.02</td>\n",
       "      <td>38.18</td>\n",
       "    </tr>\n",
       "    <tr>\n",
       "      <td>1091</td>\n",
       "      <td>1091</td>\n",
       "      <td>918.71</td>\n",
       "      <td>49.568</td>\n",
       "      <td>241.6</td>\n",
       "      <td>1.811921</td>\n",
       "      <td>227.4</td>\n",
       "      <td>2.371156</td>\n",
       "      <td>0.0</td>\n",
       "      <td>0.0</td>\n",
       "      <td>90.35</td>\n",
       "      <td>73.34</td>\n",
       "    </tr>\n",
       "    <tr>\n",
       "      <td>1092</td>\n",
       "      <td>1092</td>\n",
       "      <td>916.60</td>\n",
       "      <td>71.096</td>\n",
       "      <td>189.3</td>\n",
       "      <td>3.064608</td>\n",
       "      <td>200.8</td>\n",
       "      <td>3.892276</td>\n",
       "      <td>0.0</td>\n",
       "      <td>0.0</td>\n",
       "      <td>45.59</td>\n",
       "      <td>52.31</td>\n",
       "    </tr>\n",
       "    <tr>\n",
       "      <td>1093</td>\n",
       "      <td>1093</td>\n",
       "      <td>912.60</td>\n",
       "      <td>58.406</td>\n",
       "      <td>172.7</td>\n",
       "      <td>3.825167</td>\n",
       "      <td>189.1</td>\n",
       "      <td>4.764682</td>\n",
       "      <td>0.0</td>\n",
       "      <td>0.0</td>\n",
       "      <td>64.84</td>\n",
       "      <td>58.28</td>\n",
       "    </tr>\n",
       "    <tr>\n",
       "      <td>1094</td>\n",
       "      <td>1094</td>\n",
       "      <td>921.53</td>\n",
       "      <td>77.702</td>\n",
       "      <td>97.1</td>\n",
       "      <td>3.265932</td>\n",
       "      <td>125.9</td>\n",
       "      <td>4.451511</td>\n",
       "      <td>0.0</td>\n",
       "      <td>0.0</td>\n",
       "      <td>14.56</td>\n",
       "      <td>15.10</td>\n",
       "    </tr>\n",
       "  </tbody>\n",
       "</table>\n",
       "</div>"
      ],
      "text/plain": [
       "      number  air_pressure_9am  air_temp_9am  avg_wind_direction_9am  \\\n",
       "1090    1090            918.90        63.104                   192.9   \n",
       "1091    1091            918.71        49.568                   241.6   \n",
       "1092    1092            916.60        71.096                   189.3   \n",
       "1093    1093            912.60        58.406                   172.7   \n",
       "1094    1094            921.53        77.702                    97.1   \n",
       "\n",
       "      avg_wind_speed_9am  max_wind_direction_9am  max_wind_speed_9am  \\\n",
       "1090            3.869906                   207.3            5.212070   \n",
       "1091            1.811921                   227.4            2.371156   \n",
       "1092            3.064608                   200.8            3.892276   \n",
       "1093            3.825167                   189.1            4.764682   \n",
       "1094            3.265932                   125.9            4.451511   \n",
       "\n",
       "      rain_accumulation_9am  rain_duration_9am  relative_humidity_9am  \\\n",
       "1090                    0.0                0.0                  26.02   \n",
       "1091                    0.0                0.0                  90.35   \n",
       "1092                    0.0                0.0                  45.59   \n",
       "1093                    0.0                0.0                  64.84   \n",
       "1094                    0.0                0.0                  14.56   \n",
       "\n",
       "      relative_humidity_3pm  \n",
       "1090                  38.18  \n",
       "1091                  73.34  \n",
       "1092                  52.31  \n",
       "1093                  58.28  \n",
       "1094                  15.10  "
      ]
     },
     "execution_count": 4,
     "metadata": {},
     "output_type": "execute_result"
    }
   ],
   "source": [
    "df.tail()"
   ]
  },
  {
   "cell_type": "code",
   "execution_count": 5,
   "metadata": {},
   "outputs": [
    {
     "data": {
      "text/plain": [
       "(1095, 11)"
      ]
     },
     "execution_count": 5,
     "metadata": {},
     "output_type": "execute_result"
    }
   ],
   "source": [
    "df.shape"
   ]
  },
  {
   "cell_type": "code",
   "execution_count": 6,
   "metadata": {},
   "outputs": [
    {
     "data": {
      "text/plain": [
       "number                    0\n",
       "air_pressure_9am          3\n",
       "air_temp_9am              5\n",
       "avg_wind_direction_9am    4\n",
       "avg_wind_speed_9am        3\n",
       "max_wind_direction_9am    3\n",
       "max_wind_speed_9am        4\n",
       "rain_accumulation_9am     6\n",
       "rain_duration_9am         3\n",
       "relative_humidity_9am     0\n",
       "relative_humidity_3pm     0\n",
       "dtype: int64"
      ]
     },
     "execution_count": 6,
     "metadata": {},
     "output_type": "execute_result"
    }
   ],
   "source": [
    "df.isna().sum()"
   ]
  },
  {
   "cell_type": "markdown",
   "metadata": {},
   "source": [
    "# Data Cleaning"
   ]
  },
  {
   "cell_type": "code",
   "execution_count": 7,
   "metadata": {},
   "outputs": [],
   "source": [
    "#removing number column because there is no use of that.#\n",
    "#We do not need to number the rows as Pandas provides its's own indexing \n",
    "del df['number']"
   ]
  },
  {
   "cell_type": "code",
   "execution_count": 8,
   "metadata": {},
   "outputs": [],
   "source": [
    "#drroping rows where we have null values \n",
    "df = df.dropna()"
   ]
  },
  {
   "cell_type": "code",
   "execution_count": 9,
   "metadata": {},
   "outputs": [
    {
     "data": {
      "text/plain": [
       "(1064, 10)"
      ]
     },
     "execution_count": 9,
     "metadata": {},
     "output_type": "execute_result"
    }
   ],
   "source": [
    "#calculate how many rows deleted which contain null values\n",
    "df.shape"
   ]
  },
  {
   "cell_type": "code",
   "execution_count": 10,
   "metadata": {},
   "outputs": [
    {
     "data": {
      "text/plain": [
       "air_pressure_9am          0\n",
       "air_temp_9am              0\n",
       "avg_wind_direction_9am    0\n",
       "avg_wind_speed_9am        0\n",
       "max_wind_direction_9am    0\n",
       "max_wind_speed_9am        0\n",
       "rain_accumulation_9am     0\n",
       "rain_duration_9am         0\n",
       "relative_humidity_9am     0\n",
       "relative_humidity_3pm     0\n",
       "dtype: int64"
      ]
     },
     "execution_count": 10,
     "metadata": {},
     "output_type": "execute_result"
    }
   ],
   "source": [
    "df.isna().sum()"
   ]
  },
  {
   "cell_type": "code",
   "execution_count": 11,
   "metadata": {},
   "outputs": [],
   "source": [
    "#correlation\n",
    "corrmat = df.corr()"
   ]
  },
  {
   "cell_type": "code",
   "execution_count": 12,
   "metadata": {},
   "outputs": [
    {
     "data": {
      "text/html": [
       "<div>\n",
       "<style scoped>\n",
       "    .dataframe tbody tr th:only-of-type {\n",
       "        vertical-align: middle;\n",
       "    }\n",
       "\n",
       "    .dataframe tbody tr th {\n",
       "        vertical-align: top;\n",
       "    }\n",
       "\n",
       "    .dataframe thead th {\n",
       "        text-align: right;\n",
       "    }\n",
       "</style>\n",
       "<table border=\"1\" class=\"dataframe\">\n",
       "  <thead>\n",
       "    <tr style=\"text-align: right;\">\n",
       "      <th></th>\n",
       "      <th>air_pressure_9am</th>\n",
       "      <th>air_temp_9am</th>\n",
       "      <th>avg_wind_direction_9am</th>\n",
       "      <th>avg_wind_speed_9am</th>\n",
       "      <th>max_wind_direction_9am</th>\n",
       "      <th>max_wind_speed_9am</th>\n",
       "      <th>rain_accumulation_9am</th>\n",
       "      <th>rain_duration_9am</th>\n",
       "      <th>relative_humidity_9am</th>\n",
       "      <th>relative_humidity_3pm</th>\n",
       "    </tr>\n",
       "  </thead>\n",
       "  <tbody>\n",
       "    <tr>\n",
       "      <td>air_pressure_9am</td>\n",
       "      <td>1.000000</td>\n",
       "      <td>-0.057329</td>\n",
       "      <td>-0.313360</td>\n",
       "      <td>0.235826</td>\n",
       "      <td>-0.287280</td>\n",
       "      <td>0.252479</td>\n",
       "      <td>-0.085434</td>\n",
       "      <td>-0.100485</td>\n",
       "      <td>-0.431126</td>\n",
       "      <td>-0.480117</td>\n",
       "    </tr>\n",
       "    <tr>\n",
       "      <td>air_temp_9am</td>\n",
       "      <td>-0.057329</td>\n",
       "      <td>1.000000</td>\n",
       "      <td>-0.015069</td>\n",
       "      <td>-0.284327</td>\n",
       "      <td>-0.079520</td>\n",
       "      <td>-0.282483</td>\n",
       "      <td>-0.199102</td>\n",
       "      <td>-0.259103</td>\n",
       "      <td>-0.582318</td>\n",
       "      <td>-0.491068</td>\n",
       "    </tr>\n",
       "    <tr>\n",
       "      <td>avg_wind_direction_9am</td>\n",
       "      <td>-0.313360</td>\n",
       "      <td>-0.015069</td>\n",
       "      <td>1.000000</td>\n",
       "      <td>-0.441441</td>\n",
       "      <td>0.868837</td>\n",
       "      <td>-0.460122</td>\n",
       "      <td>0.117634</td>\n",
       "      <td>0.127367</td>\n",
       "      <td>0.346865</td>\n",
       "      <td>0.384885</td>\n",
       "    </tr>\n",
       "    <tr>\n",
       "      <td>avg_wind_speed_9am</td>\n",
       "      <td>0.235826</td>\n",
       "      <td>-0.284327</td>\n",
       "      <td>-0.441441</td>\n",
       "      <td>1.000000</td>\n",
       "      <td>-0.364338</td>\n",
       "      <td>0.995412</td>\n",
       "      <td>0.002322</td>\n",
       "      <td>0.012057</td>\n",
       "      <td>-0.095472</td>\n",
       "      <td>-0.154422</td>\n",
       "    </tr>\n",
       "    <tr>\n",
       "      <td>max_wind_direction_9am</td>\n",
       "      <td>-0.287280</td>\n",
       "      <td>-0.079520</td>\n",
       "      <td>0.868837</td>\n",
       "      <td>-0.364338</td>\n",
       "      <td>1.000000</td>\n",
       "      <td>-0.383025</td>\n",
       "      <td>0.091003</td>\n",
       "      <td>0.082574</td>\n",
       "      <td>0.369500</td>\n",
       "      <td>0.405946</td>\n",
       "    </tr>\n",
       "    <tr>\n",
       "      <td>max_wind_speed_9am</td>\n",
       "      <td>0.252479</td>\n",
       "      <td>-0.282483</td>\n",
       "      <td>-0.460122</td>\n",
       "      <td>0.995412</td>\n",
       "      <td>-0.383025</td>\n",
       "      <td>1.000000</td>\n",
       "      <td>-0.000334</td>\n",
       "      <td>0.011890</td>\n",
       "      <td>-0.108673</td>\n",
       "      <td>-0.173720</td>\n",
       "    </tr>\n",
       "    <tr>\n",
       "      <td>rain_accumulation_9am</td>\n",
       "      <td>-0.085434</td>\n",
       "      <td>-0.199102</td>\n",
       "      <td>0.117634</td>\n",
       "      <td>0.002322</td>\n",
       "      <td>0.091003</td>\n",
       "      <td>-0.000334</td>\n",
       "      <td>1.000000</td>\n",
       "      <td>0.735737</td>\n",
       "      <td>0.228951</td>\n",
       "      <td>0.181887</td>\n",
       "    </tr>\n",
       "    <tr>\n",
       "      <td>rain_duration_9am</td>\n",
       "      <td>-0.100485</td>\n",
       "      <td>-0.259103</td>\n",
       "      <td>0.127367</td>\n",
       "      <td>0.012057</td>\n",
       "      <td>0.082574</td>\n",
       "      <td>0.011890</td>\n",
       "      <td>0.735737</td>\n",
       "      <td>1.000000</td>\n",
       "      <td>0.304828</td>\n",
       "      <td>0.263283</td>\n",
       "    </tr>\n",
       "    <tr>\n",
       "      <td>relative_humidity_9am</td>\n",
       "      <td>-0.431126</td>\n",
       "      <td>-0.582318</td>\n",
       "      <td>0.346865</td>\n",
       "      <td>-0.095472</td>\n",
       "      <td>0.369500</td>\n",
       "      <td>-0.108673</td>\n",
       "      <td>0.228951</td>\n",
       "      <td>0.304828</td>\n",
       "      <td>1.000000</td>\n",
       "      <td>0.881301</td>\n",
       "    </tr>\n",
       "    <tr>\n",
       "      <td>relative_humidity_3pm</td>\n",
       "      <td>-0.480117</td>\n",
       "      <td>-0.491068</td>\n",
       "      <td>0.384885</td>\n",
       "      <td>-0.154422</td>\n",
       "      <td>0.405946</td>\n",
       "      <td>-0.173720</td>\n",
       "      <td>0.181887</td>\n",
       "      <td>0.263283</td>\n",
       "      <td>0.881301</td>\n",
       "      <td>1.000000</td>\n",
       "    </tr>\n",
       "  </tbody>\n",
       "</table>\n",
       "</div>"
      ],
      "text/plain": [
       "                        air_pressure_9am  air_temp_9am  \\\n",
       "air_pressure_9am                1.000000     -0.057329   \n",
       "air_temp_9am                   -0.057329      1.000000   \n",
       "avg_wind_direction_9am         -0.313360     -0.015069   \n",
       "avg_wind_speed_9am              0.235826     -0.284327   \n",
       "max_wind_direction_9am         -0.287280     -0.079520   \n",
       "max_wind_speed_9am              0.252479     -0.282483   \n",
       "rain_accumulation_9am          -0.085434     -0.199102   \n",
       "rain_duration_9am              -0.100485     -0.259103   \n",
       "relative_humidity_9am          -0.431126     -0.582318   \n",
       "relative_humidity_3pm          -0.480117     -0.491068   \n",
       "\n",
       "                        avg_wind_direction_9am  avg_wind_speed_9am  \\\n",
       "air_pressure_9am                     -0.313360            0.235826   \n",
       "air_temp_9am                         -0.015069           -0.284327   \n",
       "avg_wind_direction_9am                1.000000           -0.441441   \n",
       "avg_wind_speed_9am                   -0.441441            1.000000   \n",
       "max_wind_direction_9am                0.868837           -0.364338   \n",
       "max_wind_speed_9am                   -0.460122            0.995412   \n",
       "rain_accumulation_9am                 0.117634            0.002322   \n",
       "rain_duration_9am                     0.127367            0.012057   \n",
       "relative_humidity_9am                 0.346865           -0.095472   \n",
       "relative_humidity_3pm                 0.384885           -0.154422   \n",
       "\n",
       "                        max_wind_direction_9am  max_wind_speed_9am  \\\n",
       "air_pressure_9am                     -0.287280            0.252479   \n",
       "air_temp_9am                         -0.079520           -0.282483   \n",
       "avg_wind_direction_9am                0.868837           -0.460122   \n",
       "avg_wind_speed_9am                   -0.364338            0.995412   \n",
       "max_wind_direction_9am                1.000000           -0.383025   \n",
       "max_wind_speed_9am                   -0.383025            1.000000   \n",
       "rain_accumulation_9am                 0.091003           -0.000334   \n",
       "rain_duration_9am                     0.082574            0.011890   \n",
       "relative_humidity_9am                 0.369500           -0.108673   \n",
       "relative_humidity_3pm                 0.405946           -0.173720   \n",
       "\n",
       "                        rain_accumulation_9am  rain_duration_9am  \\\n",
       "air_pressure_9am                    -0.085434          -0.100485   \n",
       "air_temp_9am                        -0.199102          -0.259103   \n",
       "avg_wind_direction_9am               0.117634           0.127367   \n",
       "avg_wind_speed_9am                   0.002322           0.012057   \n",
       "max_wind_direction_9am               0.091003           0.082574   \n",
       "max_wind_speed_9am                  -0.000334           0.011890   \n",
       "rain_accumulation_9am                1.000000           0.735737   \n",
       "rain_duration_9am                    0.735737           1.000000   \n",
       "relative_humidity_9am                0.228951           0.304828   \n",
       "relative_humidity_3pm                0.181887           0.263283   \n",
       "\n",
       "                        relative_humidity_9am  relative_humidity_3pm  \n",
       "air_pressure_9am                    -0.431126              -0.480117  \n",
       "air_temp_9am                        -0.582318              -0.491068  \n",
       "avg_wind_direction_9am               0.346865               0.384885  \n",
       "avg_wind_speed_9am                  -0.095472              -0.154422  \n",
       "max_wind_direction_9am               0.369500               0.405946  \n",
       "max_wind_speed_9am                  -0.108673              -0.173720  \n",
       "rain_accumulation_9am                0.228951               0.181887  \n",
       "rain_duration_9am                    0.304828               0.263283  \n",
       "relative_humidity_9am                1.000000               0.881301  \n",
       "relative_humidity_3pm                0.881301               1.000000  "
      ]
     },
     "execution_count": 12,
     "metadata": {},
     "output_type": "execute_result"
    }
   ],
   "source": [
    "corrmat"
   ]
  },
  {
   "cell_type": "code",
   "execution_count": 13,
   "metadata": {},
   "outputs": [
    {
     "data": {
      "text/plain": [
       "<matplotlib.axes._subplots.AxesSubplot at 0x7f5f4c033b10>"
      ]
     },
     "execution_count": 13,
     "metadata": {},
     "output_type": "execute_result"
    },
    {
     "data": {
      "image/png": "[encoded data removed]",
      "text/plain": [
       "<Figure size 1440x1440 with 2 Axes>"
      ]
     },
     "metadata": {
      "needs_background": "light"
     },
     "output_type": "display_data"
    }
   ],
   "source": [
    "corr_features = corrmat.index\n",
    "plt.figure(figsize=(20,20))\n",
    "sns.heatmap(df[corr_features].corr(),annot = True,cmap = 'rainbow')"
   ]
  },
  {
   "cell_type": "code",
   "execution_count": null,
   "metadata": {},
   "outputs": [],
   "source": []
  },
  {
   "cell_type": "code",
   "execution_count": 14,
   "metadata": {},
   "outputs": [],
   "source": [
    "# creating a copy of data for cleaning purpose\n",
    "clean_data = df.copy()"
   ]
  },
  {
   "cell_type": "markdown",
   "metadata": {},
   "source": [
    "### Lets' create a additional column for high humidity"
   ]
  },
  {
   "cell_type": "markdown",
   "metadata": {},
   "source": [
    "### Convert to a Classification task\n",
    "- Binarize the relative humidity_3pm to 0 or 1\n",
    "\n",
    "We are assigning the values 0 or 1 and adding a new column 'high humidity label'. We are basically classifying the data into two categories ( binary problem) by setting a desired value ( 27 , in this case ) to be the threshold and anything above is high ( 1 ) and anything below is low ( 0 )."
   ]
  },
  {
   "cell_type": "code",
   "execution_count": 15,
   "metadata": {},
   "outputs": [],
   "source": [
    "# defining a high humidity as \"relative_humidity>28\" at 3pm\n",
    "clean_data ['high_humidity_label'] =(clean_data['relative_humidity_3pm'] >27)*1\n"
   ]
  },
  {
   "cell_type": "markdown",
   "metadata": {},
   "source": [
    "above ihave created new_feature one of the exisiting feature"
   ]
  },
  {
   "cell_type": "code",
   "execution_count": 16,
   "metadata": {},
   "outputs": [
    {
     "data": {
      "text/plain": [
       "0    1\n",
       "1    0\n",
       "2    0\n",
       "3    0\n",
       "4    1\n",
       "Name: high_humidity_label, dtype: int64"
      ]
     },
     "execution_count": 16,
     "metadata": {},
     "output_type": "execute_result"
    }
   ],
   "source": [
    "clean_data ['high_humidity_label'].head()"
   ]
  },
  {
   "cell_type": "code",
   "execution_count": null,
   "metadata": {},
   "outputs": [],
   "source": []
  },
  {
   "cell_type": "code",
   "execution_count": 17,
   "metadata": {},
   "outputs": [
    {
     "data": {
      "image/png": "[encoded data removed]",
      "text/plain": [
       "<Figure size 432x288 with 1 Axes>"
      ]
     },
     "metadata": {
      "needs_background": "light"
     },
     "output_type": "display_data"
    }
   ],
   "source": [
    "#A scatter chart shows the relationship between two different variables \n",
    "\n",
    "plt.scatter(df['rain_accumulation_9am'], df[ 'rain_duration_9am']) \n",
    "plt.show() \n",
    "  "
   ]
  },
  {
   "cell_type": "code",
   "execution_count": 18,
   "metadata": {},
   "outputs": [
    {
     "data": {
      "image/png": "[encoded data removed]",
      "text/plain": [
       "<Figure size 432x288 with 1 Axes>"
      ]
     },
     "metadata": {
      "needs_background": "light"
     },
     "output_type": "display_data"
    }
   ],
   "source": [
    "plt.scatter(df['air_pressure_9am'], df[ 'air_temp_9am']) \n",
    "plt.show() "
   ]
  },
  {
   "cell_type": "markdown",
   "metadata": {},
   "source": [
    "### Target is now stored as y. Here, target is the label - 'high_humidity_label"
   ]
  },
  {
   "cell_type": "code",
   "execution_count": 19,
   "metadata": {},
   "outputs": [
    {
     "data": {
      "text/html": [
       "<div>\n",
       "<style scoped>\n",
       "    .dataframe tbody tr th:only-of-type {\n",
       "        vertical-align: middle;\n",
       "    }\n",
       "\n",
       "    .dataframe tbody tr th {\n",
       "        vertical-align: top;\n",
       "    }\n",
       "\n",
       "    .dataframe thead th {\n",
       "        text-align: right;\n",
       "    }\n",
       "</style>\n",
       "<table border=\"1\" class=\"dataframe\">\n",
       "  <thead>\n",
       "    <tr style=\"text-align: right;\">\n",
       "      <th></th>\n",
       "      <th>high_humidity_label</th>\n",
       "    </tr>\n",
       "  </thead>\n",
       "  <tbody>\n",
       "    <tr>\n",
       "      <td>0</td>\n",
       "      <td>1</td>\n",
       "    </tr>\n",
       "    <tr>\n",
       "      <td>1</td>\n",
       "      <td>0</td>\n",
       "    </tr>\n",
       "    <tr>\n",
       "      <td>2</td>\n",
       "      <td>0</td>\n",
       "    </tr>\n",
       "    <tr>\n",
       "      <td>3</td>\n",
       "      <td>0</td>\n",
       "    </tr>\n",
       "    <tr>\n",
       "      <td>4</td>\n",
       "      <td>1</td>\n",
       "    </tr>\n",
       "    <tr>\n",
       "      <td>...</td>\n",
       "      <td>...</td>\n",
       "    </tr>\n",
       "    <tr>\n",
       "      <td>1090</td>\n",
       "      <td>1</td>\n",
       "    </tr>\n",
       "    <tr>\n",
       "      <td>1091</td>\n",
       "      <td>1</td>\n",
       "    </tr>\n",
       "    <tr>\n",
       "      <td>1092</td>\n",
       "      <td>1</td>\n",
       "    </tr>\n",
       "    <tr>\n",
       "      <td>1093</td>\n",
       "      <td>1</td>\n",
       "    </tr>\n",
       "    <tr>\n",
       "      <td>1094</td>\n",
       "      <td>0</td>\n",
       "    </tr>\n",
       "  </tbody>\n",
       "</table>\n",
       "<p>1064 rows × 1 columns</p>\n",
       "</div>"
      ],
      "text/plain": [
       "      high_humidity_label\n",
       "0                       1\n",
       "1                       0\n",
       "2                       0\n",
       "3                       0\n",
       "4                       1\n",
       "...                   ...\n",
       "1090                    1\n",
       "1091                    1\n",
       "1092                    1\n",
       "1093                    1\n",
       "1094                    0\n",
       "\n",
       "[1064 rows x 1 columns]"
      ]
     },
     "execution_count": 19,
     "metadata": {},
     "output_type": "execute_result"
    }
   ],
   "source": [
    "y = clean_data[['high_humidity_label']].copy()\n",
    "y"
   ]
  },
  {
   "cell_type": "code",
   "execution_count": 20,
   "metadata": {},
   "outputs": [
    {
     "data": {
      "text/html": [
       "<div>\n",
       "<style scoped>\n",
       "    .dataframe tbody tr th:only-of-type {\n",
       "        vertical-align: middle;\n",
       "    }\n",
       "\n",
       "    .dataframe tbody tr th {\n",
       "        vertical-align: top;\n",
       "    }\n",
       "\n",
       "    .dataframe thead th {\n",
       "        text-align: right;\n",
       "    }\n",
       "</style>\n",
       "<table border=\"1\" class=\"dataframe\">\n",
       "  <thead>\n",
       "    <tr style=\"text-align: right;\">\n",
       "      <th></th>\n",
       "      <th>air_pressure_9am</th>\n",
       "      <th>air_temp_9am</th>\n",
       "      <th>avg_wind_direction_9am</th>\n",
       "      <th>avg_wind_speed_9am</th>\n",
       "      <th>max_wind_direction_9am</th>\n",
       "      <th>max_wind_speed_9am</th>\n",
       "      <th>rain_accumulation_9am</th>\n",
       "      <th>rain_duration_9am</th>\n",
       "      <th>relative_humidity_9am</th>\n",
       "      <th>relative_humidity_3pm</th>\n",
       "      <th>high_humidity_label</th>\n",
       "    </tr>\n",
       "  </thead>\n",
       "  <tbody>\n",
       "    <tr>\n",
       "      <td>0</td>\n",
       "      <td>918.060000</td>\n",
       "      <td>74.822000</td>\n",
       "      <td>271.100000</td>\n",
       "      <td>2.080354</td>\n",
       "      <td>295.400000</td>\n",
       "      <td>2.863283</td>\n",
       "      <td>0.0</td>\n",
       "      <td>0.0</td>\n",
       "      <td>42.420000</td>\n",
       "      <td>36.160000</td>\n",
       "      <td>1</td>\n",
       "    </tr>\n",
       "    <tr>\n",
       "      <td>1</td>\n",
       "      <td>917.347688</td>\n",
       "      <td>71.403843</td>\n",
       "      <td>101.935179</td>\n",
       "      <td>2.443009</td>\n",
       "      <td>140.471548</td>\n",
       "      <td>3.533324</td>\n",
       "      <td>0.0</td>\n",
       "      <td>0.0</td>\n",
       "      <td>24.328697</td>\n",
       "      <td>19.426597</td>\n",
       "      <td>0</td>\n",
       "    </tr>\n",
       "    <tr>\n",
       "      <td>2</td>\n",
       "      <td>923.040000</td>\n",
       "      <td>60.638000</td>\n",
       "      <td>51.000000</td>\n",
       "      <td>17.067852</td>\n",
       "      <td>63.700000</td>\n",
       "      <td>22.100967</td>\n",
       "      <td>0.0</td>\n",
       "      <td>20.0</td>\n",
       "      <td>8.900000</td>\n",
       "      <td>14.460000</td>\n",
       "      <td>0</td>\n",
       "    </tr>\n",
       "    <tr>\n",
       "      <td>3</td>\n",
       "      <td>920.502751</td>\n",
       "      <td>70.138895</td>\n",
       "      <td>198.832133</td>\n",
       "      <td>4.337363</td>\n",
       "      <td>211.203341</td>\n",
       "      <td>5.190045</td>\n",
       "      <td>0.0</td>\n",
       "      <td>0.0</td>\n",
       "      <td>12.189102</td>\n",
       "      <td>12.742547</td>\n",
       "      <td>0</td>\n",
       "    </tr>\n",
       "    <tr>\n",
       "      <td>4</td>\n",
       "      <td>921.160000</td>\n",
       "      <td>44.294000</td>\n",
       "      <td>277.800000</td>\n",
       "      <td>1.856660</td>\n",
       "      <td>136.500000</td>\n",
       "      <td>2.863283</td>\n",
       "      <td>8.9</td>\n",
       "      <td>14730.0</td>\n",
       "      <td>92.410000</td>\n",
       "      <td>76.740000</td>\n",
       "      <td>1</td>\n",
       "    </tr>\n",
       "  </tbody>\n",
       "</table>\n",
       "</div>"
      ],
      "text/plain": [
       "   air_pressure_9am  air_temp_9am  avg_wind_direction_9am  avg_wind_speed_9am  \\\n",
       "0        918.060000     74.822000              271.100000            2.080354   \n",
       "1        917.347688     71.403843              101.935179            2.443009   \n",
       "2        923.040000     60.638000               51.000000           17.067852   \n",
       "3        920.502751     70.138895              198.832133            4.337363   \n",
       "4        921.160000     44.294000              277.800000            1.856660   \n",
       "\n",
       "   max_wind_direction_9am  max_wind_speed_9am  rain_accumulation_9am  \\\n",
       "0              295.400000            2.863283                    0.0   \n",
       "1              140.471548            3.533324                    0.0   \n",
       "2               63.700000           22.100967                    0.0   \n",
       "3              211.203341            5.190045                    0.0   \n",
       "4              136.500000            2.863283                    8.9   \n",
       "\n",
       "   rain_duration_9am  relative_humidity_9am  relative_humidity_3pm  \\\n",
       "0                0.0              42.420000              36.160000   \n",
       "1                0.0              24.328697              19.426597   \n",
       "2               20.0               8.900000              14.460000   \n",
       "3                0.0              12.189102              12.742547   \n",
       "4            14730.0              92.410000              76.740000   \n",
       "\n",
       "   high_humidity_label  \n",
       "0                    1  \n",
       "1                    0  \n",
       "2                    0  \n",
       "3                    0  \n",
       "4                    1  "
      ]
     },
     "execution_count": 20,
     "metadata": {},
     "output_type": "execute_result"
    }
   ],
   "source": [
    "clean_data.head()"
   ]
  },
  {
   "cell_type": "code",
   "execution_count": 21,
   "metadata": {},
   "outputs": [],
   "source": [
    "# creating a list of all independent features apart from relativehumidity at 3pm\n",
    "features = ['air_pressure_9am',\n",
    " 'air_temp_9am',\n",
    " 'avg_wind_direction_9am',\n",
    " 'avg_wind_speed_9am',\n",
    " 'max_wind_direction_9am',\n",
    " 'max_wind_speed_9am',\n",
    " 'rain_accumulation_9am',\n",
    " 'rain_duration_9am',\n",
    " 'relative_humidity_9am']"
   ]
  },
  {
   "cell_type": "code",
   "execution_count": null,
   "metadata": {},
   "outputs": [],
   "source": [
    "# Make the data of these features as X\n",
    "X = clean_data[features].copy()\n",
    "X.columns"
   ]
  },
  {
   "cell_type": "code",
   "execution_count": null,
   "metadata": {},
   "outputs": [],
   "source": [
    "#target\n",
    "y.columns"
   ]
  },
  {
   "cell_type": "markdown",
   "metadata": {},
   "source": [
    "### Perform the test and Train split"
   ]
  },
  {
   "cell_type": "code",
   "execution_count": null,
   "metadata": {},
   "outputs": [],
   "source": [
    "X_train, X_test, y_train, y_test = train_test_split(X, y, test_size = 0.33, random_state = 324)"
   ]
  },
  {
   "cell_type": "markdown",
   "metadata": {},
   "source": [
    "### Fit the model on the training set\n",
    "\n",
    "We will build a model using the Decision Tree Classifier using the fit functions"
   ]
  },
  {
   "cell_type": "code",
   "execution_count": null,
   "metadata": {},
   "outputs": [],
   "source": [
    "humidity_classifier = DecisionTreeClassifier(max_leaf_nodes = 10, random_state = 0, criterion = 'gini', max_depth = None, min_samples_leaf = 1)\n",
    "humidity_classifier.fit(X_train, y_train)"
   ]
  },
  {
   "cell_type": "code",
   "execution_count": null,
   "metadata": {},
   "outputs": [],
   "source": [
    "#predicting values on test set\n",
    "predictions = humidity_classifier.predict(X_test)\n",
    "type(predictions)"
   ]
  },
  {
   "cell_type": "code",
   "execution_count": null,
   "metadata": {},
   "outputs": [],
   "source": [
    "predictions[:10]"
   ]
  },
  {
   "cell_type": "code",
   "execution_count": null,
   "metadata": {},
   "outputs": [],
   "source": [
    "#Measure the accuracy of the data\n",
    "accuracy_score(y_test, y_pred = predictions)"
   ]
  },
  {
   "cell_type": "code",
   "execution_count": null,
   "metadata": {
    "scrolled": true
   },
   "outputs": [],
   "source": [
    "#Measuring the mean squared error\n",
    "from sklearn.metrics import mean_squared_error\n",
    "mean_squared_error(y_test, y_pred = predictions)"
   ]
  },
  {
   "cell_type": "markdown",
   "metadata": {},
   "source": [
    "We have predictd the humidity at 3PM based on the 9AM measurements with an 88% accuracy and 11% loss which are very good stats."
   ]
  },
  {
   "cell_type": "code",
   "execution_count": null,
   "metadata": {
    "scrolled": true
   },
   "outputs": [],
   "source": [
    "from sklearn.metrics import roc_auc_score\n",
    "from sklearn.metrics import roc_curve\n",
    "logit_roc_auc = roc_auc_score(y_test, humidity_classifier.predict(X_test))\n",
    "fpr, tpr, thresholds = roc_curve(y_test, humidity_classifier.predict_proba(X_test)[:,1])\n",
    "plt.figure()\n",
    "plt.plot(fpr, tpr, label='Decision Treee(area = %0.2f)' % logit_roc_auc)\n",
    "plt.plot([0, 1], [0, 1],'r--')\n",
    "plt.xlim([0.0, 1.0])\n",
    "plt.ylim([0.0, 1.05])\n",
    "plt.xlabel('False Positive Rate')\n",
    "plt.ylabel('True Positive Rate')\n",
    "plt.title('Receiver operating characteristic')\n",
    "plt.legend(loc=\"lower right\")\n",
    "plt.savefig('Log_ROC')\n",
    "plt.show()"
   ]
  },
  {
   "cell_type": "code",
   "execution_count": null,
   "metadata": {
    "scrolled": true
   },
   "outputs": [],
   "source": [
    "from sklearn.metrics import classification_report\n",
    "print(classification_report(y_test, predictions))"
   ]
  },
  {
   "cell_type": "code",
   "execution_count": null,
   "metadata": {},
   "outputs": [],
   "source": []
  }
 ],
 "metadata": {
  "kernelspec": {
   "display_name": "Python 3",
   "language": "python",
   "name": "python3"
  },
  "language_info": {
   "codemirror_mode": {
    "name": "ipython",
    "version": 3
   },
   "file_extension": ".py",
   "mimetype": "text/x-python",
   "name": "python",
   "nbconvert_exporter": "python",
   "pygments_lexer": "ipython3",
   "version": "3.7.4"
  }
 },
 "nbformat": 4,
 "nbformat_minor": 2
}
